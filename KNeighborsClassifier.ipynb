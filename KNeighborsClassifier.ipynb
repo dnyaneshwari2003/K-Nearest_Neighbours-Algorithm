{
  "cells": [
    {
      "cell_type": "code",
      "execution_count": null,
      "id": "e63a2118",
      "metadata": {
        "id": "e63a2118"
      },
      "outputs": [],
      "source": [
        "import numpy as np\n",
        "from collections import Counter"
      ]
    },
    {
      "cell_type": "code",
      "execution_count": null,
      "id": "b295f5c0",
      "metadata": {
        "id": "b295f5c0"
      },
      "outputs": [],
      "source": [
        "class Knn:\n",
        "\n",
        "    def __init__(self,k=5):\n",
        "        self.n_neighbors = k\n",
        "        self.X_train = None\n",
        "        self.y_train = None\n",
        "\n",
        "    def fit(self,X_train,y_train):\n",
        "        self.X_train = X_train\n",
        "        self.y_train = y_train\n",
        "\n",
        "    def predict(self,X_test):\n",
        "\n",
        "        y_pred = []\n",
        "\n",
        "        for i in X_test:\n",
        "            # calculate distance with each training point\n",
        "            distances = []\n",
        "            for j in self.X_train:\n",
        "                distances.append(self.calculate_distance(i,j))\n",
        "                n_neighbors = sorted(list(enumerate(distances)),key=lambda x:x[1])[0:self.n_neighbors]\n",
        "                label = self.majority_count(n_neighbors)\n",
        "                y_pred.append(label)\n",
        "        return np.array(y_pred)\n",
        "\n",
        "\n",
        "    def calculate_distance(self,point_A,point_B):\n",
        "        return np.linalg.norm(point_A - point_B)\n",
        "\n",
        "    def majority_count(self,neighbors):\n",
        "        votes = []\n",
        "        for i in neighbors:\n",
        "            votes.append(self.y_train[i[0]])\n",
        "        votes = Counter(votes)\n",
        "\n",
        "        return votes.most_common()[0][0]"
      ]
    },
    {
      "cell_type": "code",
      "execution_count": null,
      "id": "7911f2ba",
      "metadata": {
        "id": "7911f2ba"
      },
      "outputs": [],
      "source": []
    }
  ],
  "metadata": {
    "kernelspec": {
      "display_name": "Python 3 (ipykernel)",
      "language": "python",
      "name": "python3"
    },
    "language_info": {
      "codemirror_mode": {
        "name": "ipython",
        "version": 3
      },
      "file_extension": ".py",
      "mimetype": "text/x-python",
      "name": "python",
      "nbconvert_exporter": "python",
      "pygments_lexer": "ipython3",
      "version": "3.10.9"
    },
    "colab": {
      "provenance": []
    }
  },
  "nbformat": 4,
  "nbformat_minor": 5
}