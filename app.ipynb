{
  "cells": [
    {
      "cell_type": "code",
      "execution_count": null,
      "id": "a018d199",
      "metadata": {
        "id": "a018d199"
      },
      "outputs": [],
      "source": [
        "import pandas as pd\n",
        "import numpy as np\n",
        "from sklearn.preprocessing import LabelEncoder\n",
        "from sklearn.preprocessing import StandardScaler\n",
        "from sklearn.model_selection import train_test_split\n",
        "from sklearn.neighbors import KNeighborsClassifier\n",
        "from sklearn.metrics import accuracy_score\n",
        "from KNeighborsClassifier import Knn"
      ]
    },
    {
      "cell_type": "code",
      "execution_count": null,
      "id": "e1befa44",
      "metadata": {
        "id": "e1befa44"
      },
      "outputs": [],
      "source": [
        "df = pd.read_csv('Social_Network_Ads.csv')\n",
        "\n",
        "df = df.iloc[:,1:]\n",
        "encoder = LabelEncoder()\n",
        "df['Gender'] = encoder.fit_transform(df['Gender'])\n",
        "scaler = StandardScaler()\n",
        "\n",
        "X = df.iloc[:,0:3].values\n",
        "X = scaler.fit_transform(X)\n",
        "y = df.iloc[:,-1].values\n",
        "\n",
        "X_train,X_test,y_train,y_test = train_test_split(X,y,test_size=0.3,random_state=0)\n"
      ]
    },
    {
      "cell_type": "code",
      "execution_count": null,
      "id": "0254f731",
      "metadata": {
        "id": "0254f731",
        "outputId": "b70546c5-becf-4f66-8ab4-ac3e1ee76da9"
      },
      "outputs": [
        {
          "name": "stdout",
          "output_type": "stream",
          "text": [
            "(120, 3)\n",
            "(280, 3)\n",
            "0.9166666666666666\n"
          ]
        }
      ],
      "source": [
        "knn = KNeighborsClassifier(n_neighbors=5)\n",
        "\n",
        "knn.fit(X_train,y_train)\n",
        "\n",
        "y_pred = knn.predict(X_test)\n",
        "\n",
        "print(X_test.shape)\n",
        "print(X_train.shape)\n",
        "\n",
        "print(accuracy_score(y_test,y_pred))"
      ]
    },
    {
      "cell_type": "code",
      "execution_count": null,
      "id": "ff756544",
      "metadata": {
        "id": "ff756544"
      },
      "outputs": [],
      "source": [
        "apnaKnn = Knn(k=5)"
      ]
    },
    {
      "cell_type": "code",
      "execution_count": null,
      "id": "f16aa589",
      "metadata": {
        "id": "f16aa589",
        "outputId": "4b648cb8-ebea-4ae0-fbda-d5dd18b23b71"
      },
      "outputs": [
        {
          "name": "stdout",
          "output_type": "stream",
          "text": [
            "0.9166666666666666\n"
          ]
        }
      ],
      "source": [
        "apnaKnn.fit(X_train,y_train)\n",
        "y_pred1 = apnaKnn.predict(X_test)\n",
        "print(accuracy_score(y_test,y_pred1))"
      ]
    },
    {
      "cell_type": "code",
      "execution_count": null,
      "id": "b712af49",
      "metadata": {
        "id": "b712af49"
      },
      "outputs": [],
      "source": []
    }
  ],
  "metadata": {
    "kernelspec": {
      "display_name": "Python 3 (ipykernel)",
      "language": "python",
      "name": "python3"
    },
    "language_info": {
      "codemirror_mode": {
        "name": "ipython",
        "version": 3
      },
      "file_extension": ".py",
      "mimetype": "text/x-python",
      "name": "python",
      "nbconvert_exporter": "python",
      "pygments_lexer": "ipython3",
      "version": "3.10.9"
    },
    "colab": {
      "provenance": []
    }
  },
  "nbformat": 4,
  "nbformat_minor": 5
}